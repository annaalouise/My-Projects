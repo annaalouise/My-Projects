{
 "cells": [
  {
   "cell_type": "markdown",
   "id": "34b101cc",
   "metadata": {},
   "source": [
    "**Automated File Sorter in File Explorer**"
   ]
  },
  {
   "cell_type": "code",
   "execution_count": 58,
   "id": "89897892",
   "metadata": {},
   "outputs": [],
   "source": [
    "import os, shutil"
   ]
  },
  {
   "cell_type": "code",
   "execution_count": 59,
   "id": "eeeec7c4",
   "metadata": {},
   "outputs": [],
   "source": [
    "path = r\"/Users/annaallen/Documents/Python Tutorial/\""
   ]
  },
  {
   "cell_type": "code",
   "execution_count": 60,
   "id": "0cf7a40d",
   "metadata": {},
   "outputs": [],
   "source": [
    "file_name = os.listdir(path)"
   ]
  },
  {
   "cell_type": "code",
   "execution_count": 61,
   "id": "0bc33244",
   "metadata": {},
   "outputs": [
    {
     "name": "stdout",
     "output_type": "stream",
     "text": [
      "/Users/annaallen/Documents/Python Tutorial/docx files\n",
      "/Users/annaallen/Documents/Python Tutorial/pdf files\n",
      "/Users/annaallen/Documents/Python Tutorial/text files\n"
     ]
    }
   ],
   "source": [
    "folder_names = ['docx files', 'pdf files','text files']\n",
    "\n",
    "for loop in range(0,3):\n",
    "       if not os.path.exists(path + folder_names[loop]):\n",
    "            os.makedirs(path + folder_names[loop])\n",
    "            \n",
    "for file in file_name:\n",
    "    if \".docx\" in file and not os.path.exists(path + \"docx files/\" + file):\n",
    "        shutil.move(path + file,path + \"docx files/\" + file)\n",
    "    elif \".pdf\" in file and not os.path.exists(path + \"pdf files/\" + file):\n",
    "        shutil.move(path + file,path + \"pdf files/\" + file)\n",
    "    elif \".txt\" in file and not os.path.exists(path + \"text files/\" + file):\n",
    "        shutil.move(path + file,path + \"text files/\" + file)\n",
    "  "
   ]
  },
  {
   "cell_type": "code",
   "execution_count": 57,
   "id": "1a288f44",
   "metadata": {},
   "outputs": [],
   "source": [
    " "
   ]
  },
  {
   "cell_type": "code",
   "execution_count": null,
   "id": "3552c2ba",
   "metadata": {},
   "outputs": [],
   "source": []
  },
  {
   "cell_type": "code",
   "execution_count": null,
   "id": "d04db15b",
   "metadata": {},
   "outputs": [],
   "source": []
  },
  {
   "cell_type": "code",
   "execution_count": null,
   "id": "7075cccb",
   "metadata": {},
   "outputs": [],
   "source": []
  }
 ],
 "metadata": {
  "kernelspec": {
   "display_name": "Python 3 (ipykernel)",
   "language": "python",
   "name": "python3"
  },
  "language_info": {
   "codemirror_mode": {
    "name": "ipython",
    "version": 3
   },
   "file_extension": ".py",
   "mimetype": "text/x-python",
   "name": "python",
   "nbconvert_exporter": "python",
   "pygments_lexer": "ipython3",
   "version": "3.9.13"
  }

